{
 "cells": [
  {
   "cell_type": "markdown",
   "id": "703ddeec",
   "metadata": {},
   "source": [
    "# Question 1\n",
    "\n",
    "Consider the following Python module:\n",
    "a = 0\n",
    "def b():\n",
    " global a\n",
    " a = c(a)\n",
    "def c(a):\n",
    " return a + 2\n",
    "After importing the module into the interpreter, you execute:\n",
    ">>> b()\n",
    ">>> b()\n",
    ">>> b()\n",
    ">>> a\n",
    "?\n",
    "What value is displayed when the last expression (a) is evaluated? Explain your \n",
    "answer by indicating what happens in every executed statement."
   ]
  },
  {
   "cell_type": "code",
   "execution_count": 17,
   "id": "783368ac",
   "metadata": {},
   "outputs": [
    {
     "name": "stdout",
     "output_type": "stream",
     "text": [
      "6\n"
     ]
    }
   ],
   "source": [
    "a = 0\n",
    "\n",
    "def b():\n",
    "    global a\n",
    "    a = c(a)\n",
    "\n",
    "def c(a):\n",
    "    return a + 2\n",
    "\n",
    "# Initial value of a is 0\n",
    "\n",
    "b() # a=0,b()= a+2,b()= 2\n",
    "b() # b()= 2+2 = 4\n",
    "b() # b()= 4+2 = 6\n",
    "\n",
    "print(a)# The value of 'a' is now 6"
   ]
  },
  {
   "cell_type": "markdown",
   "id": "629ec5d7",
   "metadata": {},
   "source": [
    "# Question 2\n",
    "\n",
    "Function fileLength(), given to you, takes the name of a file as input and returns \n",
    "the length of the file:\n",
    ">>> fileLength('midterm.py')\n",
    "284\n",
    ">>> fileLength('idterm.py')\n",
    "Traceback (most recent call last):\n",
    "File \"<pyshell#34>\", line 1, in <module>\n",
    " fileLength('idterm.py')\n",
    "File \"/Users/me/midterm.py\", line 3, in fileLength\n",
    " infile = open(filename)\n",
    "FileNotFoundError: [Errno 2] No such file or directory: \n",
    "'idterm.py'\n",
    "As shown above, if the file cannot be found by the interpreter or if it cannot be read \n",
    "as a text file, an exception will be raised. Modify function fileLength() so that a \n",
    "friendly message is printed instead:\n",
    ">>> fileLength('midterm.py')\n",
    "358\n",
    ">>> fileLength('idterm.py')\n",
    "File idterm.py not found."
   ]
  },
  {
   "cell_type": "code",
   "execution_count": 4,
   "id": "746113f2",
   "metadata": {},
   "outputs": [
    {
     "name": "stdout",
     "output_type": "stream",
     "text": [
      "File midterm.py not found.\n",
      "File idterm.py not found.\n"
     ]
    }
   ],
   "source": [
    "def fileLength(filename):\n",
    "    try:\n",
    "        with open(filename, 'r') as infile:\n",
    "            content = infile.read()\n",
    "        return len(content)\n",
    "    except FileNotFoundError:\n",
    "        print(f\"File {filename} not found.\")\n",
    "        return None\n",
    "\n",
    "fileLength('midterm.py') # there is no file named \"midterm.py\", so it can not give the output \"358\"\n",
    "fileLength('idterm.py')"
   ]
  },
  {
   "cell_type": "markdown",
   "id": "556bbc17",
   "metadata": {},
   "source": [
    "# Question 3\n",
    "Write a class named Marsupial that can be used as shown below:\n",
    ">>> m = Marsupial()\n",
    ">>> m.put_in_pouch('doll')\n",
    ">>> m.put_in_pouch('firetruck')\n",
    ">>> m.put_in_pouch('kitten')\n",
    ">>> m.pouch_contents()\n",
    "['doll', 'firetruck', 'kitten']\n",
    "Now write a class named Kangaroo as a subclass of Marsupial that inherits all the \n",
    "attributes of Marsupial and also:\n",
    "a. extends the Marsupial __init__ constructor to take, as input, the \n",
    "coordinates x and y of the Kangaroo object,\n",
    "b. supports method jump that takes number values dx and dy as input and \n",
    "moves the kangaroo by dx units along the x-axis and by dy units along the y\u0002axis, and\n",
    "c. overloads the __str__ operator so it behaves as shown below.\n",
    ">>> k = Kangaroo(0,0)\n",
    ">>> print(k)\n",
    "I am a Kangaroo located at coordinates (0,0)\n",
    ">>> k.put_in_pouch('doll')\n",
    ">>> k.put_in_pouch('firetruck')\n",
    ">>> k.put_in_pouch('kitten')\n",
    ">>> k.pouch_contents()\n",
    "['doll', 'firetruck', 'kitten']\n",
    ">>> k.jump(1,0)\n",
    ">>> k.jump(1,0)\n",
    ">>> k.jump(1,0)\n",
    ">>> print(k)\n",
    "I am a Kangaroo located at coordinates (3,0)"
   ]
  },
  {
   "cell_type": "code",
   "execution_count": 47,
   "id": "879b704d",
   "metadata": {},
   "outputs": [
    {
     "name": "stdout",
     "output_type": "stream",
     "text": [
      "['doll', 'firetruck', 'kitten']\n",
      "I am a Kangaroo located at coordinates (0,0)\n",
      "['doll', 'firetruck', 'kitten']\n",
      "I am a Kangaroo located at coordinates (3,0)\n"
     ]
    }
   ],
   "source": [
    "class Marsupial:\n",
    "    def __init__(animal):\n",
    "        animal.item = []\n",
    "\n",
    "    def put_in_item(animal, item):\n",
    "        animal.item.append(item)\n",
    "\n",
    "    def item_contents(animal):\n",
    "        return animal.item\n",
    "\n",
    "\n",
    "class Kangaroo(Marsupial):\n",
    "    def __init__(animal, a, b):\n",
    "        super().__init__()\n",
    "        animal.a = a\n",
    "        animal.b = b\n",
    "\n",
    "    def jump(animal, da, db):\n",
    "        animal.a += da\n",
    "        animal.b += db\n",
    "\n",
    "    def __str__(animal):\n",
    "        return f\"I am a Kangaroo located at coordinates ({animal.a},{animal.b})\"\n",
    "\n",
    "\n",
    "# Creating a Marsupial object\n",
    "m = Marsupial()\n",
    "m.put_in_item('doll')\n",
    "m.put_in_item('firetruck')\n",
    "m.put_in_item('kitten')\n",
    "print(m.item_contents())\n",
    "\n",
    "# Creating a Kangaroo object\n",
    "k = Kangaroo(0, 0)\n",
    "print(k)\n",
    "k.put_in_item('doll')\n",
    "k.put_in_item('firetruck')\n",
    "k.put_in_item('kitten')\n",
    "print(k.item_contents())\n",
    "k.jump(1, 0)\n",
    "k.jump(1, 0)\n",
    "k.jump(1, 0)\n",
    "print(k)"
   ]
  },
  {
   "cell_type": "markdown",
   "id": "bc8a0e46",
   "metadata": {},
   "source": [
    "# Question 4\n",
    "Write function collatz() that takes a positive integer x as input and prints the \n",
    "Collatz sequence starting at x. A Collatz sequence is obtained by repeatedly applying \n",
    "this rule to the previous number x in the sequence:\n",
    "x = {\n",
    "𝑥/2 𝑖𝑓 𝑥 𝑖𝑠 𝑒𝑣𝑒𝑛\n",
    "3𝑥 + 1 𝑖𝑓 𝑥 𝑖𝑠 𝑜𝑑𝑑\n",
    "Your function should stop when the sequence gets to number 1. Your \n",
    "implementation must be recursive, without any loops.\n",
    ">>> collatz(1)\n",
    "1\n",
    ">>> collatz(10)\n",
    "10\n",
    "5\n",
    "16\n",
    "8\n",
    "4\n",
    "2\n",
    "1"
   ]
  },
  {
   "cell_type": "code",
   "execution_count": 19,
   "id": "0cd0e624",
   "metadata": {},
   "outputs": [
    {
     "name": "stdout",
     "output_type": "stream",
     "text": [
      "1\n",
      "\n",
      "10\n",
      "5\n",
      "16\n",
      "8\n",
      "4\n",
      "2\n",
      "1\n"
     ]
    }
   ],
   "source": [
    "def collatz(x):\n",
    "    print(x)  # Print the current number in the sequence\n",
    "\n",
    "    if x == 1:  # Base case: stop when x reaches 1\n",
    "        return\n",
    "\n",
    "    if x % 2 == 0:  # If x is even\n",
    "        x = x // 2  # Divide x by 2\n",
    "    else:  # If x is odd\n",
    "        x = 3 * x + 1  # Multiply x by 3 and add 1\n",
    "\n",
    "    collatz(x)  # Recursive call with the updated value of x\n",
    "\n",
    "collatz(1)\n",
    "print()  # Empty line for separation\n",
    "collatz(10)"
   ]
  },
  {
   "cell_type": "markdown",
   "id": "f45ea5b2",
   "metadata": {},
   "source": [
    "# Question 5\n",
    "Write a recursive method binary() that takes a non-negative \n",
    "integer n and prints the binary representation of integer n.\n",
    ">>> binary(0)\n",
    "0\n",
    ">>> binary(1)\n",
    "1\n",
    ">>> binary(3)\n",
    "11\n",
    ">>> binary(9)\n",
    "1001"
   ]
  },
  {
   "cell_type": "code",
   "execution_count": 9,
   "id": "ca9649ca",
   "metadata": {},
   "outputs": [
    {
     "name": "stdout",
     "output_type": "stream",
     "text": [
      "0\n",
      "1\n",
      "11\n",
      "1001\n"
     ]
    }
   ],
   "source": [
    "def binary(n):\n",
    "    if n == 0:\n",
    "        return [0]  # Base case: n is 0, so the binary representation is [0]\n",
    "    elif n == 1:\n",
    "        return [1]  # Base case: n is 1, so the binary representation is [1]\n",
    "    else:\n",
    "        binary_Value = binary(n // 2)  # Recursive call with n divided by 2\n",
    "        binary_Value.append(n % 2)  # Append the remainder (0 or 1) after dividing n by 2\n",
    "        return binary_Value\n",
    "\n",
    "print(*binary(0), sep='')  # Convert the list to a string and print without separators\n",
    "print(*binary(1), sep='')\n",
    "print(*binary(3), sep='')\n",
    "print(*binary(9), sep='')"
   ]
  },
  {
   "cell_type": "markdown",
   "id": "1f14a076",
   "metadata": {},
   "source": [
    "# Question 6\n",
    "Implement a class named HeadingParser that can be used to parse an HTML \n",
    "document, and retrieve and print all the headings in the document. You should \n",
    "implement your class as a subclass of HTMLParser, defined in Standard Library \n",
    "module html.parser. When fed a string containing HTML code, your class should \n",
    "print the headings, one per line and in the order in which they appear in the \n",
    "document. Each heading should be indented as follows: an h1 heading should have \n",
    "indentation 0, and h2 heading should have indentation 1, etc. Test your \n",
    "implementation using w3c.html.\n",
    ">>> infile = open('w3c.html')\n",
    ">>> content = infile.read()\n",
    ">>> infile.close()\n",
    ">>> hp = HeadingParser()\n",
    ">>> hp.feed(content)\n",
    "W3C Mission\n",
    "Principles"
   ]
  },
  {
   "cell_type": "code",
   "execution_count": 16,
   "id": "1c165dd2",
   "metadata": {},
   "outputs": [
    {
     "name": "stdout",
     "output_type": "stream",
     "text": [
      "\n",
      "\n",
      "W3C Mission\n",
      "\n",
      "\t\n",
      " Principles\n",
      " \n",
      " \n",
      "\n",
      "\n",
      "\n",
      " \n",
      "\n"
     ]
    }
   ],
   "source": [
    "from html.parser import HTMLParser\n",
    "\n",
    "\n",
    "class HeadingParser(HTMLParser):\n",
    "    def __init__(self):\n",
    "        super().__init__()\n",
    "        self.headings = []  # List to store the headings\n",
    "        self.indentation = 0  # Variable to track the indentation level\n",
    "\n",
    "    def handle_starttag(self, tag, attrs):\n",
    "        # Check if the tag is a heading tag (h1, h2, h3, etc.)\n",
    "        if tag.startswith('h') and len(tag) == 2 and tag[1].isdigit():\n",
    "            # Calculate the indentation level based on the heading tag\n",
    "            self.indentation = int(tag[1]) - 1\n",
    "        else:\n",
    "            # Set indentation to -1 for non-heading tags\n",
    "            self.indentation = -1\n",
    "\n",
    "    def handle_data(self, data):\n",
    "        # If the indentation level is valid (not -1), add the heading to the list with proper indentation\n",
    "        if self.indentation >= 0:\n",
    "            self.headings.append(' ' * self.indentation + data)\n",
    "\n",
    "    def print_headings(self):\n",
    "        # Print the headings with proper indentation\n",
    "        for heading in self.headings:\n",
    "            print(heading)\n",
    "\n",
    "\n",
    "# Read the HTML content from the file\n",
    "with open('w3c.html') as infile:\n",
    "    content = infile.read()\n",
    "\n",
    "# Create an instance of HeadingParser\n",
    "hp = HeadingParser()\n",
    "\n",
    "# Feed the HTML content to the HeadingParser instance\n",
    "hp.feed(content)\n",
    "\n",
    "# Print the headings\n",
    "hp.print_headings()"
   ]
  },
  {
   "cell_type": "markdown",
   "id": "43a95c5f",
   "metadata": {},
   "source": [
    "# Question 7\n",
    "Implement recursive function webdir() that takes as input: a URL (as a string) and \n",
    "non-negative integers depth and indent. Your function should visit every web \n",
    "page reachable from the starting URL web page in depth clicks or less, and print \n",
    "each web page's URL. As shown below, indentation, specified by indent, should \n",
    "be used to indicate the depth of a URL.\n",
    ">>> \n",
    "webdir('http://reed.cs.depaul.edu/lperkovic/csc242/test1.html'\n",
    ", 2, 0)\n",
    "http://reed.cs.depaul.edu/lperkovic/csc242/test1.html\n",
    " http://reed.cs.depaul.edu/lperkovic/csc242/test2.html\n",
    " http://reed.cs.depaul.edu/lperkovic/csc242/test4.html\n",
    " http://reed.cs.depaul.edu/lperkovic/csc242/test3.html\n",
    " http://reed.cs.depaul.edu/lperkovic/csc242/test4.html"
   ]
  },
  {
   "cell_type": "code",
   "execution_count": 7,
   "id": "88c54dce",
   "metadata": {},
   "outputs": [
    {
     "name": "stdout",
     "output_type": "stream",
     "text": [
      "http://reed.cs.depaul.edu/lperkovic/csc242/test1.html\n",
      "    Error accessing URL: http://reed.cs.depaul.edu/lperkovic/csc242/test1.html\n",
      "http://reed.cs.depaul.edu/lperkovic/csc242/test1.html\n",
      "    Error accessing URL: http://reed.cs.depaul.edu/lperkovic/csc242/test1.html\n"
     ]
    }
   ],
   "source": [
    "import requests\n",
    "\n",
    "def webdir(url, depth, indent):\n",
    "    # Print the current URL with appropriate indentation\n",
    "    print(' ' * indent + url)\n",
    "\n",
    "    # Base case: If depth is 0, return\n",
    "    if depth == 0:\n",
    "        return\n",
    "\n",
    "    try:\n",
    "        # Send a GET request to the URL\n",
    "        response = requests.get(url)\n",
    "\n",
    "        # Raise an exception if an error occurs while accessing the URL\n",
    "        response.raise_for_status()\n",
    "\n",
    "        # Extract the links from the HTML of the current URL\n",
    "        links = extract_links(response.text)\n",
    "\n",
    "        # Recursive call for each link found\n",
    "        for link in links:\n",
    "            webdir(link, depth - 1, indent + 4)\n",
    "\n",
    "    except requests.exceptions.RequestException:\n",
    "        # Error occurred while accessing the URL\n",
    "        print(' ' * (indent + 4) + 'Error accessing URL:', url)\n",
    "\n",
    "\n",
    "def extract_links(html):\n",
    "    # Extract links from the HTML using a simple approach\n",
    "   \n",
    "    import re\n",
    "    pattern = r'<a\\s+(?:[^>]*?\\s+)?href=\"([^\"]*)\"'\n",
    "    return re.findall(pattern, html)\n",
    "\n",
    "\n",
    "# print the fuction, this URL can not be open, so the output is not the required output.\n",
    "webdir('http://reed.cs.depaul.edu/lperkovic/csc242/test1.html', 2, 0)\n",
    "\n",
    "import requests\n",
    "\n",
    "def webdir(url, depth, indent):\n",
    "    # Print the current URL with appropriate indentation\n",
    "    print(' ' * indent + url)\n",
    "\n",
    "    # Base case: If depth is 0, return\n",
    "    if depth == 0:\n",
    "        return\n",
    "\n",
    "    try:\n",
    "        # Send a GET request to the URL\n",
    "        response = requests.get(url)\n",
    "\n",
    "        # Raise an exception if an error occurs while accessing the URL\n",
    "        response.raise_for_status()\n",
    "\n",
    "        # Extract the links from the HTML of the current URL\n",
    "        links = extract_links(response.text)\n",
    "\n",
    "        # Recursive call for each link found\n",
    "        for link in links:\n",
    "            webdir(link, depth - 1, indent + 4)\n",
    "\n",
    "    except requests.exceptions.RequestException:\n",
    "        # Error occurred while accessing the URL\n",
    "        print(' ' * (indent + 4) + 'Error accessing URL:', url)\n",
    "\n",
    "\n",
    "def extract_links(html):\n",
    "    # Extract links from the HTML \n",
    "   \n",
    "    import re\n",
    "    pattern = r'<a\\s+(?:[^>]*?\\s+)?href=\"([^\"]*)\"'\n",
    "    return re.findall(pattern, html)\n",
    "\n",
    "\n",
    "# print the fuction, this URL can not be open, so the output is not the required output.\n",
    "webdir('http://reed.cs.depaul.edu/lperkovic/csc242/test1.html', 2, 0)\n"
   ]
  },
  {
   "cell_type": "markdown",
   "id": "05702dc9",
   "metadata": {},
   "source": [
    "# Question 8\n",
    "Write SQL queries on the below database table that return: \n",
    "a) All the temperature data.\n",
    "b) All the cities, but without repetition.\n",
    "c) All the records for India.\n",
    "d) All the Fall records.\n",
    "e) The city, country, and season for which the average rainfall is between 200 \n",
    "and 400 millimeters.\n",
    "f) The city and country for which the average Fall temperature is above 20 \n",
    "degrees, in increasing temperature order.\n",
    "g) The total annual rainfall for Cairo.\n",
    "h) The total rainfall for each season.\n",
    "City Country Season Temperature \n",
    "(C)\n",
    "Rainfall \n",
    "(mm)\n",
    "Mumbai India Winter 24.8 5.9 \n",
    "Mumbai India Spring 28.4 16.2 \n",
    "Mumbai India Summer 27.9 1549.4 \n",
    "Mumbai India Fall 27.6 346.0 \n",
    "London United Kingdom Winter 4.2 207.7 \n",
    "London United Kingdom Spring 8.3 169.6 \n",
    "London United Kingdom Summer 15.7 157.0 \n",
    "London United Kingdom Fall 10.4 218.5 \n",
    "Cairo Egypt Winter 13.6 16.5 \n",
    "Cairo Egypt Spring 20.7 6.5 \n",
    "Cairo Egypt Summer 27.7 0.1 \n",
    "Cairo Egypt Fall 22.2 4.5"
   ]
  },
  {
   "cell_type": "code",
   "execution_count": 1,
   "id": "978ebe45",
   "metadata": {},
   "outputs": [
    {
     "name": "stdout",
     "output_type": "stream",
     "text": [
      "Temperature Data:\n",
      "24.8\n",
      "28.4\n",
      "27.9\n",
      "27.6\n",
      "4.2\n",
      "8.3\n",
      "15.7\n",
      "10.4\n",
      "13.6\n",
      "20.7\n",
      "27.7\n",
      "22.2\n",
      "\n",
      "Cities without repetition:\n",
      "Mumbai\n",
      "London\n",
      "Cairo\n",
      "\n",
      "Records for India:\n",
      "('Mumbai', 'India', 'Winter', '24.8', '59')\n",
      "('Mumbai', 'India', 'Spring', '28.4', '16.2')\n",
      "('Mumbai', 'India', 'Summer', '27.9', '1549.4')\n",
      "('Mumbai', 'India', 'Fall', '27.6', '346')\n",
      "\n",
      "Fall Records:\n",
      "('Mumbai', 'India', 'Fall', '27.6', '346')\n",
      "('London', 'United Kingdom', 'Fall', '10.4', '218.5')\n",
      "('Cairo', 'Egypt', 'Fall', '22.2', '4.5')\n",
      "\n",
      "City, Country, and Season with average rainfall between 200 and 400 millimeters:\n",
      "('London', 'United Kingdom', 'Fall')\n",
      "('London', 'United Kingdom', 'Winter')\n",
      "('Mumbai', 'India', 'Fall')\n",
      "\n",
      "City and Country with average Fall temperature above 20 degrees, in increasing temperature order:\n",
      "('Cairo', 'Egypt')\n",
      "('Mumbai', 'India')\n",
      "\n",
      "Total annual rainfall for Cairo:\n",
      "27.6\n",
      "\n",
      "Total rainfall for each season:\n",
      "('Fall', 569.0)\n",
      "('Spring', 192.29999999999998)\n",
      "('Summer', 1706.5)\n",
      "('Winter', 283.2)\n"
     ]
    }
   ],
   "source": [
    "import sqlite3\n",
    "\n",
    "# Connect to a database or create it if it doesn't exist\n",
    "conn = sqlite3.connect('rainfall.db')\n",
    "\n",
    "# Create a cursor object to execute SQL commands\n",
    "cursor = conn.cursor()\n",
    "\n",
    "# Create a table\n",
    "cursor.execute('''CREATE TABLE rainfall (City, Country, Season, Temperature, Rainfall)''')\n",
    "\n",
    "# Insert multiple rows of data\n",
    "rainfall_info = \"INSERT INTO rainfall (City, Country, Season, Temperature, Rainfall) VALUES (?,?,?,?,?)\"\n",
    "values = [\n",
    "    ('Mumbai', 'India', 'Winter', '24.8', '59'),\n",
    "    ('Mumbai', 'India', 'Spring', '28.4', '16.2'),\n",
    "    ('Mumbai', 'India', 'Summer', '27.9', '1549.4'),\n",
    "    ('Mumbai', 'India', 'Fall', '27.6', '346'),\n",
    "    ('London', 'United Kingdom', 'Winter', '4.2', '207.7'),\n",
    "    ('London', 'United Kingdom', 'Spring', '8.3', '169.6'),\n",
    "    ('London', 'United Kingdom', 'Summer', '15.7', '157'),\n",
    "    ('London', 'United Kingdom', 'Fall', '10.4', '218.5'),\n",
    "    ('Cairo', 'Egypt', 'Winter', '13.6', '16.5'),\n",
    "    ('Cairo', 'Egypt', 'Spring', '20.7', '6.5'),\n",
    "    ('Cairo', 'Egypt', 'Summer', '27.7', '0.1'),\n",
    "    ('Cairo', 'Egypt', 'Fall', '22.2', '4.5')]\n",
    "cursor.executemany(rainfall_info, values)\n",
    "\n",
    "# Execute the SELECT statement\n",
    "\n",
    "# a) All the temperature data\n",
    "cursor.execute(\"SELECT Temperature FROM rainfall\")\n",
    "result_a = cursor.fetchall()\n",
    "print(\"Temperature Data:\")\n",
    "for row in result_a:\n",
    "    print(row[0])\n",
    "    \n",
    " # b) All the cities, but without repetition\n",
    "cursor.execute(\"SELECT DISTINCT City FROM rainfall\")\n",
    "result_b = cursor.fetchall()\n",
    "print(\"\\nCities without repetition:\")\n",
    "for row in result_b:\n",
    "    print(row[0])\n",
    "\n",
    "# c) All the records for India\n",
    "cursor.execute(\"SELECT * FROM rainfall WHERE Country = 'India'\")\n",
    "result_c = cursor.fetchall()\n",
    "print(\"\\nRecords for India:\")\n",
    "for row in result_c:\n",
    "    print(row)\n",
    "\n",
    "# d) All the Fall records\n",
    "cursor.execute(\"SELECT * FROM rainfall WHERE Season = 'Fall'\")\n",
    "result_d = cursor.fetchall()\n",
    "print(\"\\nFall Records:\")\n",
    "for row in result_d:\n",
    "    print(row)\n",
    "\n",
    "# e) The city, country, and season for which the average rainfall is between 200 and 400 millimeters\n",
    "cursor.execute(\"SELECT City, Country, Season FROM rainfall GROUP BY City, Country, Season HAVING AVG(Rainfall) BETWEEN 200 AND 400\")\n",
    "result_e = cursor.fetchall()\n",
    "print(\"\\nCity, Country, and Season with average rainfall between 200 and 400 millimeters:\")\n",
    "for row in result_e:\n",
    "    print(row)\n",
    "\n",
    "# f) The city and country for which the average Fall temperature is above 20 degrees, in increasing temperature order\n",
    "cursor.execute(\"SELECT City, Country FROM rainfall WHERE Season = 'Fall' GROUP BY City, Country HAVING AVG(Temperature) > 20 ORDER BY AVG(Temperature) ASC\")\n",
    "result_f = cursor.fetchall()\n",
    "print(\"\\nCity and Country with average Fall temperature above 20 degrees, in increasing temperature order:\")\n",
    "for row in result_f:\n",
    "    print(row)\n",
    "\n",
    "# g) The total annual rainfall for Cairo\n",
    "cursor.execute(\"SELECT SUM(Rainfall) FROM rainfall WHERE City = 'Cairo'\")\n",
    "result_g = cursor.fetchone()\n",
    "print(\"\\nTotal annual rainfall for Cairo:\")\n",
    "print(result_g[0])\n",
    "\n",
    "# h) The total rainfall for each season\n",
    "cursor.execute(\"SELECT Season, SUM(Rainfall) FROM rainfall GROUP BY Season\")\n",
    "result_h = cursor.fetchall()\n",
    "print(\"\\nTotal rainfall for each season:\")\n",
    "for row in result_h:\n",
    "    print(row)\n",
    "\n",
    "# Commit the changes\n",
    "conn.commit()\n",
    "\n",
    "# Close the connection\n",
    "conn.close()"
   ]
  },
  {
   "cell_type": "markdown",
   "id": "f81c75eb",
   "metadata": {},
   "source": [
    "# Question 9\n",
    ". Suppose list words is defined as follows:\n",
    ">>> words = ['The', 'quick', 'brown', 'fox', 'jumps', 'over', \n",
    "'the', 'lazy', 'dog']\n",
    "Write list comprehension expressions that use list words and generate the following \n",
    "lists:\n",
    "a) ['THE', 'QUICK', 'BROWN', 'FOX', 'JUMPS', 'OVER', 'THE', \n",
    "'LAZY', 'DOG']\n",
    "b) ['the', 'quick', 'brown', 'fox', 'jumps', 'over', 'the', \n",
    "'lazy', 'dog']\n",
    "c) [3, 5, 5, 3, 5, 4, 3, 4, 3] (the list of lengths of words in list \n",
    "words).\n",
    "d) [['THE', 'the', 3], ['QUICK', 'quick', 5], ['BROWN', \n",
    "'brown', 5], ['FOX', 'fox', 3], ['JUMPS', 'jumps', 5], \n",
    "['OVER', 'over', 4], ['THE', 'the', 3], ['LAZY', 'lazy', \n",
    "4], ['DOG', 'dog', 3]] (the list containing a list for every word of list \n",
    "words, where each list contains the word in uppercase and lowercase and the \n",
    "length of the word.)\n",
    "e) ['The', 'quick', 'brown', 'fox', 'jumps', 'over', 'the', \n",
    "'lazy', 'dog'] (the list of words in list words containing 4 or more \n",
    "characters.)"
   ]
  },
  {
   "cell_type": "code",
   "execution_count": 40,
   "id": "73e52e55",
   "metadata": {},
   "outputs": [
    {
     "name": "stdout",
     "output_type": "stream",
     "text": [
      "['THE', 'QUICK', 'BROWN', 'FOX', 'JUMPS', 'OVER', 'THE', 'LAZY', 'DOG']\n"
     ]
    }
   ],
   "source": [
    "words = ['The', 'quick', 'brown', 'fox', 'jumps', 'over', 'the', 'lazy', 'dog']\n",
    "uppercase_words = [word.upper() for word in words]\n",
    "print(uppercase_words)"
   ]
  },
  {
   "cell_type": "code",
   "execution_count": 41,
   "id": "b1dda84d",
   "metadata": {},
   "outputs": [
    {
     "name": "stdout",
     "output_type": "stream",
     "text": [
      "['the', 'quick', 'brown', 'fox', 'jumps', 'over', 'the', 'lazy', 'dog']\n"
     ]
    }
   ],
   "source": [
    "words = ['The', 'quick', 'brown', 'fox', 'jumps', 'over', 'the', 'lazy', 'dog']\n",
    "lowercase_words = [word.lower() for word in words]\n",
    "print(lowercase_words)"
   ]
  },
  {
   "cell_type": "code",
   "execution_count": 45,
   "id": "e77ddd2f",
   "metadata": {},
   "outputs": [
    {
     "name": "stdout",
     "output_type": "stream",
     "text": [
      "[3, 5, 5, 3, 5, 4, 3, 4, 3]\n"
     ]
    }
   ],
   "source": [
    "words = ['The', 'quick', 'brown', 'fox', 'jumps', 'over', 'the', 'lazy', 'dog']\n",
    "word_lengths = [len(word) for word in words]\n",
    "print(word_lengths)"
   ]
  },
  {
   "cell_type": "code",
   "execution_count": 44,
   "id": "ef8ca037",
   "metadata": {},
   "outputs": [
    {
     "name": "stdout",
     "output_type": "stream",
     "text": [
      "[['THE', 'the', 3], ['QUICK', 'quick', 5], ['BROWN', 'brown', 5], ['FOX', 'fox', 3], ['JUMPS', 'jumps', 5], ['OVER', 'over', 4], ['THE', 'the', 3], ['LAZY', 'lazy', 4], ['DOG', 'dog', 3]]\n"
     ]
    }
   ],
   "source": [
    "words = ['The', 'quick', 'brown', 'fox', 'jumps', 'over', 'the', 'lazy', 'dog']\n",
    "word_info = [[word.upper(), word.lower(), len(word)] for word in words]\n",
    "print(word_info)"
   ]
  },
  {
   "cell_type": "code",
   "execution_count": 43,
   "id": "93090c81",
   "metadata": {},
   "outputs": [
    {
     "name": "stdout",
     "output_type": "stream",
     "text": [
      "['quick', 'brown', 'jumps', 'over', 'lazy']\n"
     ]
    }
   ],
   "source": [
    "words = ['The', 'quick', 'brown', 'fox', 'jumps', 'over', 'the', 'lazy', 'dog']\n",
    "long_words = [word for word in words if len(word) >= 4]\n",
    "print(long_words)"
   ]
  }
 ],
 "metadata": {
  "kernelspec": {
   "display_name": "Python 3 (ipykernel)",
   "language": "python",
   "name": "python3"
  },
  "language_info": {
   "codemirror_mode": {
    "name": "ipython",
    "version": 3
   },
   "file_extension": ".py",
   "mimetype": "text/x-python",
   "name": "python",
   "nbconvert_exporter": "python",
   "pygments_lexer": "ipython3",
   "version": "3.10.9"
  }
 },
 "nbformat": 4,
 "nbformat_minor": 5
}
